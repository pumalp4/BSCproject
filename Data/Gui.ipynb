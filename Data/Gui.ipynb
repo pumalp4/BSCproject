{
 "cells": [
  {
   "cell_type": "code",
   "execution_count": 1,
   "id": "ffcc5b2c",
   "metadata": {},
   "outputs": [],
   "source": [
    "import lifesim\n",
    "from lifesim import Gui"
   ]
  },
  {
   "cell_type": "code",
   "execution_count": null,
   "id": "6dd22dae",
   "metadata": {
    "scrolled": false
   },
   "outputs": [
    {
     "name": "stdout",
     "output_type": "stream",
     "text": [
      "<class 'ZeroDivisionError'> spectrum_gui.py 559\n",
      "<class 'ZeroDivisionError'> spectrum_gui.py 559\n"
     ]
    }
   ],
   "source": [
    "Gui()\n"
   ]
  },
  {
   "cell_type": "code",
   "execution_count": 3,
   "id": "f4107d79",
   "metadata": {
    "scrolled": true
   },
   "outputs": [
    {
     "name": "stdout",
     "output_type": "stream",
     "text": [
      "Cloning into 'LIFEsimspecexamples'...\n",
      "remote: Enumerating objects: 73, done.\u001b[K\n",
      "remote: Counting objects: 100% (9/9), done.\u001b[K\n",
      "remote: Compressing objects: 100% (9/9), done.\u001b[K\n",
      "remote: Total 73 (delta 2), reused 0 (delta 0), pack-reused 64\u001b[K\n",
      "Receiving objects: 100% (73/73), 1.16 MiB | 3.15 MiB/s, done.\n",
      "Resolving deltas: 100% (23/23), done.\n"
     ]
    }
   ],
   "source": [
    "!git clone https://github.com/DanAnger/LIFEsimspecexamples.git\n",
    "\n",
    "import time\n",
    "import matplotlib.pyplot as plt\n",
    "import numpy as np\n",
    "import copy\n",
    "\n",
    "import sys"
   ]
  },
  {
   "cell_type": "code",
   "execution_count": 4,
   "id": "d82cdae8",
   "metadata": {
    "scrolled": true
   },
   "outputs": [
    {
     "ename": "ImportError",
     "evalue": "cannot import name 'transmission_generator' from 'modules' (/home/lucas/miniconda3/envs/myenv/lib/python3.8/site-packages/modules.py)",
     "output_type": "error",
     "traceback": [
      "\u001b[0;31m---------------------------------------------------------------------------\u001b[0m",
      "\u001b[0;31mImportError\u001b[0m                               Traceback (most recent call last)",
      "Cell \u001b[0;32mIn[4], line 4\u001b[0m\n\u001b[1;32m      1\u001b[0m sys\u001b[38;5;241m.\u001b[39mpath\u001b[38;5;241m.\u001b[39mappend(\u001b[38;5;124m'\u001b[39m\u001b[38;5;124m/content/LIFEsimspecexamples\u001b[39m\u001b[38;5;124m'\u001b[39m)\n\u001b[0;32m----> 4\u001b[0m \u001b[38;5;28;01mfrom\u001b[39;00m \u001b[38;5;21;01mmodules\u001b[39;00m \u001b[38;5;28;01mimport\u001b[39;00m transmission_generator \u001b[38;5;28;01mas\u001b[39;00m tm_gen\n\u001b[1;32m      5\u001b[0m \u001b[38;5;28;01mfrom\u001b[39;00m \u001b[38;5;21;01mmodules\u001b[39;00m \u001b[38;5;28;01mimport\u001b[39;00m constants\n\u001b[1;32m      6\u001b[0m \u001b[38;5;28;01mfrom\u001b[39;00m \u001b[38;5;21;01mmodules\u001b[39;00m \u001b[38;5;28;01mimport\u001b[39;00m snr_calc\n",
      "\u001b[0;31mImportError\u001b[0m: cannot import name 'transmission_generator' from 'modules' (/home/lucas/miniconda3/envs/myenv/lib/python3.8/site-packages/modules.py)"
     ]
    }
   ],
   "source": [
    "sys.path.append('/content/LIFEsimspecexamples')\n",
    "\n",
    "\n",
    "from modules import transmission_generator as tm_gen\n",
    "from modules import constants\n",
    "from modules import snr_calc\n",
    "from modules.plotting import plotter\n",
    "\n",
    "from models.planet import Planet\n",
    "from models.star import Star\n",
    "from models.instrument import Instrument\n",
    "from models.disk import Disk\n",
    "from models.localzodi import Localzodi\n",
    "\n",
    "from modules.snr_calc import SnrCalc\n",
    "\n",
    "\n",
    "%config InlineBackend.figure_format = 'svg'"
   ]
  },
  {
   "cell_type": "code",
   "execution_count": null,
   "id": "dd34b084",
   "metadata": {},
   "outputs": [],
   "source": []
  },
  {
   "cell_type": "code",
   "execution_count": null,
   "id": "67a51a5d",
   "metadata": {},
   "outputs": [],
   "source": []
  }
 ],
 "metadata": {
  "kernelspec": {
   "display_name": "myenv",
   "language": "python",
   "name": "myenv"
  },
  "language_info": {
   "codemirror_mode": {
    "name": "ipython",
    "version": 3
   },
   "file_extension": ".py",
   "mimetype": "text/x-python",
   "name": "python",
   "nbconvert_exporter": "python",
   "pygments_lexer": "ipython3",
   "version": "3.8.16"
  }
 },
 "nbformat": 4,
 "nbformat_minor": 5
}
